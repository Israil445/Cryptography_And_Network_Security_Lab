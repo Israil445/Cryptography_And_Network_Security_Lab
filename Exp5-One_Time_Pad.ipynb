{
 "cells": [
  {
   "cell_type": "markdown",
   "id": "edebe46a",
   "metadata": {},
   "source": [
    "### Reading `txt` file"
   ]
  },
  {
   "cell_type": "code",
   "execution_count": 9,
   "id": "632d9590",
   "metadata": {},
   "outputs": [],
   "source": [
    "key = \"\"\n",
    "with open(\"oneTimePadKey.txt\",\"r\") as file:\n",
    "    key = file.read()"
   ]
  },
  {
   "cell_type": "markdown",
   "id": "1e104444",
   "metadata": {},
   "source": [
    "### Encryption"
   ]
  },
  {
   "cell_type": "code",
   "execution_count": 10,
   "id": "4b8eabf3",
   "metadata": {},
   "outputs": [],
   "source": [
    "def encrypt(plain_text): \n",
    "    cipher_text = \"\"\n",
    "    idx = 0\n",
    "    for ch in plain_text:\n",
    "        x = (ord(ch) + ord(key[idx])) % 26\n",
    "        idx += 1\n",
    "        cipher_text += chr(ord('A') + x)\n",
    "        \n",
    "    remaining_key = key[idx:]\n",
    "    key_used = key[:idx]\n",
    "    \n",
    "    with open(\"oneTimePadKey.txt\", \"w\") as file:\n",
    "        file.write(remaining_key)\n",
    "\n",
    "    return cipher_text, key_used, remaining_key    "
   ]
  },
  {
   "cell_type": "markdown",
   "id": "d9c82fc4",
   "metadata": {},
   "source": [
    "### Decryption"
   ]
  },
  {
   "cell_type": "code",
   "execution_count": 11,
   "id": "6e8442ae",
   "metadata": {},
   "outputs": [],
   "source": [
    "def decrypt(cipher_text):\n",
    "    plain_text = \"\"\n",
    "    idx = 0\n",
    "    \n",
    "    for ch in cipher_text:\n",
    "        x = (ord(ch) - ord(key[idx])) % 26\n",
    "        idx += 1\n",
    "        plain_text += chr(ord('A') + x)\n",
    "    \n",
    "    remaining_key = key[idx:]\n",
    "    key_used = key[:idx]\n",
    "    with open(\"oneTimePadKey.txt\", \"w\") as file:\n",
    "        file.write(remaining_key)\n",
    "\n",
    "    return plain_text, key_used, remaining_key\n"
   ]
  },
  {
   "cell_type": "markdown",
   "id": "62659a11",
   "metadata": {},
   "source": [
    "### Example"
   ]
  },
  {
   "cell_type": "code",
   "execution_count": 12,
   "id": "5175e5cd",
   "metadata": {},
   "outputs": [
    {
     "name": "stdout",
     "output_type": "stream",
     "text": [
      "Plain text:     ISRAILCSERU\n",
      "Cipher text:    SSTNNPWXFBW, Key used: KACNFEUFBKC, Remaining key: JANSDFJEKJNCVADFDHFBCASDJFNHKJADCNGJKSDRFHEAKLJSDFNNGHAKSDJFNCGBFJKAHSDBFHFJNASDFKJNHHFAKJSHDFJKCNBKLJAHSDFKJHDSFBGHAKJBFBLAQWIUQKJBDKJBZKJHFIPPQIOURHBNMNA\n",
      "Decrypted text: ISRAILCSERU, Key used: KACNFEUFBKC, Remaining key: JANSDFJEKJNCVADFDHFBCASDJFNHKJADCNGJKSDRFHEAKLJSDFNNGHAKSDJFNCGBFJKAHSDBFHFJNASDFKJNHHFAKJSHDFJKCNBKLJAHSDFKJHDSFBGHAKJBFBLAQWIUQKJBDKJBZKJHFIPPQIOURHBNMNA\n"
     ]
    }
   ],
   "source": [
    "plain_text = \"ISRAILCSERU\"\n",
    "print(f\"Plain text:     {plain_text}\")\n",
    "\n",
    "cipher_text, key_used, remaining_key = encrypt(plain_text)\n",
    "print(f\"Cipher text:    {cipher_text}, Key used: {key_used}, Remaining key: {remaining_key}\")\n",
    "\n",
    "decrypted_text, key_used, remaining_key = decrypt(cipher_text)\n",
    "print(f\"Decrypted text: {decrypted_text}, Key used: {key_used}, Remaining key: {remaining_key}\")\n"
   ]
  }
 ],
 "metadata": {
  "kernelspec": {
   "display_name": "Python 3",
   "language": "python",
   "name": "python3"
  },
  "language_info": {
   "codemirror_mode": {
    "name": "ipython",
    "version": 3
   },
   "file_extension": ".py",
   "mimetype": "text/x-python",
   "name": "python",
   "nbconvert_exporter": "python",
   "pygments_lexer": "ipython3",
   "version": "3.12.2"
  }
 },
 "nbformat": 4,
 "nbformat_minor": 5
}
