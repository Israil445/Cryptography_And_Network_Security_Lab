{
 "cells": [
  {
   "cell_type": "markdown",
   "id": "1968838a",
   "metadata": {},
   "source": [
    "### Algorithm"
   ]
  },
  {
   "cell_type": "code",
   "execution_count": 1,
   "id": "e46d7bdf",
   "metadata": {},
   "outputs": [],
   "source": [
    "import random\n",
    "\n",
    "def lehmann_primality_test(p, t=10):\n",
    "    if p <= 2:\n",
    "      return p==2\n",
    "  \n",
    "    for _ in range(t):\n",
    "        a = random.randint(2, p - 1)\n",
    "        e = (p - 1) // 2\n",
    "        res = pow(a, e, p)\n",
    "        if res != 1 and res != p - 1:\n",
    "            return False\n",
    "\n",
    "    return True"
   ]
  },
  {
   "cell_type": "markdown",
   "id": "b2077eda",
   "metadata": {},
   "source": [
    "### Example"
   ]
  },
  {
   "cell_type": "code",
   "execution_count": 6,
   "id": "99a53481",
   "metadata": {},
   "outputs": [
    {
     "name": "stdout",
     "output_type": "stream",
     "text": [
      "140: Composite\n",
      "408: Composite\n",
      "920: Composite\n",
      "271: Probably Prime\n",
      "596: Composite\n",
      "882: Composite\n",
      "887: Probably Prime\n",
      "398: Composite\n",
      "43: Probably Prime\n",
      "71: Probably Prime\n"
     ]
    }
   ],
   "source": [
    "numbers = [random.randint(3, 1000) for _ in range(10)]\n",
    "for num in numbers:\n",
    "    if lehmann_primality_test(num):\n",
    "      print(f\"{num}: Probably Prime\")\n",
    "    else:\n",
    "      print(f\"{num}: Composite\")"
   ]
  }
 ],
 "metadata": {
  "kernelspec": {
   "display_name": "Python 3",
   "language": "python",
   "name": "python3"
  },
  "language_info": {
   "codemirror_mode": {
    "name": "ipython",
    "version": 3
   },
   "file_extension": ".py",
   "mimetype": "text/x-python",
   "name": "python",
   "nbconvert_exporter": "python",
   "pygments_lexer": "ipython3",
   "version": "3.12.2"
  }
 },
 "nbformat": 4,
 "nbformat_minor": 5
}
