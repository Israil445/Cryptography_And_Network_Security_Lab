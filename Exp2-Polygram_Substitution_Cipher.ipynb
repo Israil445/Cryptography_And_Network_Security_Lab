{
 "cells": [
  {
   "cell_type": "markdown",
   "id": "b1b83898",
   "metadata": {},
   "source": [
    "### Reading `txt` file"
   ]
  },
  {
   "cell_type": "code",
   "execution_count": 2,
   "id": "8a9a70c9",
   "metadata": {},
   "outputs": [],
   "source": [
    "encryption_rules = {}\n",
    "decryption_rules = {}\n",
    "\n",
    "with open(\"polygram_blocks.txt\", \"r\") as file:\n",
    "    content = file.read()\n",
    "    words = content.split()\n",
    "    \n",
    "for i in range(0, len(words), 2):\n",
    "    word1, word2 = words[i], words[i+1]\n",
    "    encryption_rules[word1] = word2\n",
    "    decryption_rules[word2] = word1    "
   ]
  },
  {
   "cell_type": "markdown",
   "id": "e4e8679d",
   "metadata": {},
   "source": [
    "### Encryption"
   ]
  },
  {
   "cell_type": "code",
   "execution_count": 5,
   "id": "6a114aba",
   "metadata": {},
   "outputs": [],
   "source": [
    "def encrypt(plain_text):\n",
    "    cipher_text = \"\"\n",
    "    block = \"\"\n",
    "    \n",
    "    for i in range(len(plain_text)):\n",
    "        if i and i%3 == 0:\n",
    "            cipher_text += encryption_rules[block]\n",
    "            block = \"\"\n",
    "        block += plain_text[i]\n",
    "    cipher_text += encryption_rules[block]      \n",
    "    return cipher_text"
   ]
  },
  {
   "cell_type": "markdown",
   "id": "a0e3d191",
   "metadata": {},
   "source": [
    "### Decryption"
   ]
  },
  {
   "cell_type": "code",
   "execution_count": 4,
   "id": "77f3e238",
   "metadata": {},
   "outputs": [],
   "source": [
    "def decrypt(cipher_text):\n",
    "    plain_text = \"\"\n",
    "    block = \"\"\n",
    "    \n",
    "    for i in range(len(cipher_text)):\n",
    "        if i and i%3 == 0:\n",
    "            plain_text += decryption_rules[block]\n",
    "            block = \"\"\n",
    "        block += cipher_text[i]\n",
    "    plain_text += decryption_rules[block]\n",
    "    return plain_text        "
   ]
  },
  {
   "cell_type": "markdown",
   "id": "43b8f4b5",
   "metadata": {},
   "source": [
    "### Example"
   ]
  },
  {
   "cell_type": "code",
   "execution_count": 6,
   "id": "ffbd43bd",
   "metadata": {},
   "outputs": [
    {
     "name": "stdout",
     "output_type": "stream",
     "text": [
      "Plaintext: pqrabcmn\n",
      "Ciphertext: atfxnqvc\n",
      "Decrypted Plaintext: pqrabcmn\n"
     ]
    }
   ],
   "source": [
    "plain_text = \"pqrabcmn\"\n",
    "print(f\"Plaintext: {plain_text}\")\n",
    "cipher_text = encrypt(plain_text)\n",
    "print(f\"Ciphertext: {cipher_text}\")\n",
    "decrypted_text = decrypt(cipher_text)\n",
    "print(f\"Decrypted Plaintext: {decrypted_text}\")"
   ]
  }
 ],
 "metadata": {
  "kernelspec": {
   "display_name": "Python 3",
   "language": "python",
   "name": "python3"
  },
  "language_info": {
   "codemirror_mode": {
    "name": "ipython",
    "version": 3
   },
   "file_extension": ".py",
   "mimetype": "text/x-python",
   "name": "python",
   "nbconvert_exporter": "python",
   "pygments_lexer": "ipython3",
   "version": "3.12.2"
  }
 },
 "nbformat": 4,
 "nbformat_minor": 5
}
