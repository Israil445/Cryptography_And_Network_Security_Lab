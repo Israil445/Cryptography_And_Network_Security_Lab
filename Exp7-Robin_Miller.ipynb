{
 "cells": [
  {
   "cell_type": "markdown",
   "id": "977a3bd7",
   "metadata": {},
   "source": [
    "### Algorithm"
   ]
  },
  {
   "cell_type": "code",
   "execution_count": 4,
   "id": "5a21c5c4",
   "metadata": {},
   "outputs": [],
   "source": [
    "import random\n",
    "def is_probable_prime(p, k=10):\n",
    "    if p <= 1:\n",
    "        return False\n",
    "    if p <= 3:\n",
    "        return True\n",
    "    if p % 2 == 0:\n",
    "        return False\n",
    "\n",
    "    m = p - 1\n",
    "    b = 0\n",
    "    while m % 2 == 0:\n",
    "        m //= 2\n",
    "        b += 1\n",
    "\n",
    "    for _ in range(k):\n",
    "        a = random.randint(2, p - 2)\n",
    "        z = pow(a, m, p)\n",
    "\n",
    "        if z == 1 or z == p - 1:\n",
    "            continue\n",
    "\n",
    "        for j in range(b - 1):\n",
    "            z = (z * z) % p\n",
    "            if z == p - 1:\n",
    "                break\n",
    "        else:\n",
    "            return False\n",
    "    return True"
   ]
  },
  {
   "cell_type": "markdown",
   "id": "8d02bca8",
   "metadata": {},
   "source": [
    "### Example"
   ]
  },
  {
   "cell_type": "code",
   "execution_count": 5,
   "id": "db21e975",
   "metadata": {},
   "outputs": [
    {
     "name": "stdout",
     "output_type": "stream",
     "text": [
      "29: Probably Prime\n",
      "37: Probably Prime\n",
      "561: Composite\n",
      "97: Probably Prime\n",
      "100: Composite\n"
     ]
    }
   ],
   "source": [
    "test_numbers = [29, 37, 561, 97, 100]\n",
    "\n",
    "for num in test_numbers:\n",
    "    result = is_probable_prime(num, k=5)\n",
    "    status = \"Probably Prime\" if result else \"Composite\"\n",
    "    print(f\"{num}: {status}\")"
   ]
  },
  {
   "cell_type": "markdown",
   "id": "bd63bd07",
   "metadata": {},
   "source": [
    "### For loop with else statement "
   ]
  },
  {
   "cell_type": "code",
   "execution_count": 6,
   "id": "17ad9274",
   "metadata": {},
   "outputs": [],
   "source": [
    "for i in range(5):\n",
    "    if i == 3:\n",
    "        break\n",
    "else:\n",
    "    print(\"Completed loop without break\")\n"
   ]
  },
  {
   "cell_type": "code",
   "execution_count": 7,
   "id": "461c7809",
   "metadata": {},
   "outputs": [
    {
     "name": "stdout",
     "output_type": "stream",
     "text": [
      "Completed loop without break\n"
     ]
    }
   ],
   "source": [
    "for i in range(5):\n",
    "    if i == 10:\n",
    "        break\n",
    "else:\n",
    "    print(\"Completed loop without break\")\n"
   ]
  }
 ],
 "metadata": {
  "kernelspec": {
   "display_name": "Python 3",
   "language": "python",
   "name": "python3"
  },
  "language_info": {
   "codemirror_mode": {
    "name": "ipython",
    "version": 3
   },
   "file_extension": ".py",
   "mimetype": "text/x-python",
   "name": "python",
   "nbconvert_exporter": "python",
   "pygments_lexer": "ipython3",
   "version": "3.12.2"
  }
 },
 "nbformat": 4,
 "nbformat_minor": 5
}
