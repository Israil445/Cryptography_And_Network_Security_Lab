{
 "cells": [
  {
   "cell_type": "markdown",
   "id": "4afb4fef",
   "metadata": {},
   "source": [
    "### Encryption"
   ]
  },
  {
   "cell_type": "code",
   "execution_count": 1,
   "id": "f5d1d1e3",
   "metadata": {},
   "outputs": [],
   "source": [
    "def encrypt(plaintext, width = 4):\n",
    "    length = len(plaintext)\n",
    "    ciphertext = \"\"\n",
    "\n",
    "    for k in range(width):\n",
    "        for i in range(k, length, width):\n",
    "            ciphertext += plaintext[i]\n",
    "\n",
    "    return ciphertext"
   ]
  },
  {
   "cell_type": "markdown",
   "id": "b219875d",
   "metadata": {},
   "source": [
    "### Decryption"
   ]
  },
  {
   "cell_type": "code",
   "execution_count": 2,
   "id": "d7794a97",
   "metadata": {},
   "outputs": [],
   "source": [
    "def decrypt(cipher_text, width = 4):\n",
    "    length = len(cipher_text)\n",
    "    plain_text = [''] * length\n",
    "    idx = 0\n",
    "\n",
    "    for k in range(width):\n",
    "        for i in range(k, length, width):\n",
    "            plain_text[i] = cipher_text[idx]\n",
    "            idx += 1\n",
    "\n",
    "    return ''.join(plain_text)"
   ]
  },
  {
   "cell_type": "markdown",
   "id": "a13332a4",
   "metadata": {},
   "source": [
    "### Example"
   ]
  },
  {
   "cell_type": "code",
   "execution_count": 4,
   "id": "ab40cb6e",
   "metadata": {},
   "outputs": [
    {
     "name": "stdout",
     "output_type": "stream",
     "text": [
      "Plain text: DEPARTMENT OF COMPUTER SCIENCE AND ENGINEERING\n",
      "First cipher text: DRNFMECCNNENETT PRIEDGEGPM CU E  IRAEOOTSNAENI\n",
      "Double cipher text: DMNEPDPU ESNRENTRGM IONINCETIE EROAFCN EGC ATE\n",
      "Intermediate decrypted text: DRNFMECCNNENETT PRIEDGEGPM CU E  IRAEOOTSNAENI\n",
      "Decrypted text: DEPARTMENT OF COMPUTER SCIENCE AND ENGINEERING\n"
     ]
    }
   ],
   "source": [
    "plaintext = \"DEPARTMENT OF COMPUTER SCIENCE AND ENGINEERING\"\n",
    "print(f\"Plain text: {plaintext}\")\n",
    "\n",
    "first_ciphertext = encrypt(plaintext)\n",
    "print(f\"First cipher text: {first_ciphertext}\")\n",
    "\n",
    "double_ciphertext = encrypt(first_ciphertext)\n",
    "print(f\"Double cipher text: {double_ciphertext}\")\n",
    "\n",
    "intermediate_decrypted_text = decrypt(double_ciphertext)\n",
    "print(f\"Intermediate decrypted text: {intermediate_decrypted_text}\")\n",
    "\n",
    "decrypted_text = decrypt(intermediate_decrypted_text)\n",
    "print(f\"Decrypted text: {decrypted_text}\")"
   ]
  }
 ],
 "metadata": {
  "kernelspec": {
   "display_name": "Python 3",
   "language": "python",
   "name": "python3"
  },
  "language_info": {
   "codemirror_mode": {
    "name": "ipython",
    "version": 3
   },
   "file_extension": ".py",
   "mimetype": "text/x-python",
   "name": "python",
   "nbconvert_exporter": "python",
   "pygments_lexer": "ipython3",
   "version": "3.12.2"
  }
 },
 "nbformat": 4,
 "nbformat_minor": 5
}
