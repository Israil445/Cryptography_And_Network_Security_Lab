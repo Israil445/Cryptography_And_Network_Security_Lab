{
 "cells": [
  {
   "cell_type": "markdown",
   "id": "7d2b6b1c",
   "metadata": {},
   "source": [
    "### Encryption"
   ]
  },
  {
   "cell_type": "code",
   "execution_count": 8,
   "id": "7155d6d2",
   "metadata": {},
   "outputs": [],
   "source": [
    "def encrypt(plaintext, width = 4):\n",
    "    length = len(plaintext)\n",
    "    ciphertext = \"\"\n",
    "\n",
    "    for k in range(width):\n",
    "        for i in range(k, length, width):\n",
    "            ciphertext += plaintext[i]\n",
    "\n",
    "    return ciphertext"
   ]
  },
  {
   "cell_type": "markdown",
   "id": "68104540",
   "metadata": {},
   "source": [
    "### Decryption"
   ]
  },
  {
   "cell_type": "code",
   "execution_count": 9,
   "id": "7981c5fd",
   "metadata": {},
   "outputs": [],
   "source": [
    "def decrypt(cipher_text, width = 4):\n",
    "    length = len(cipher_text)\n",
    "    plain_text = [''] * length\n",
    "    idx = 0\n",
    "\n",
    "    for k in range(width):\n",
    "        for i in range(k, length, width):\n",
    "            plain_text[i] = cipher_text[idx]\n",
    "            idx += 1\n",
    "\n",
    "    return ''.join(plain_text)"
   ]
  },
  {
   "cell_type": "code",
   "execution_count": 10,
   "id": "c3eb823d",
   "metadata": {},
   "outputs": [
    {
     "name": "stdout",
     "output_type": "stream",
     "text": [
      "Plain text: DEPARTMENT OF COMPUTER SCIENCE AND ENGINEERING\n",
      "Cipher text: DRNFMECCNNENETT PRIEDGEGPM CU E  IRAEOOTSNAENI\n",
      "Decrypted text: DEPARTMENT OF COMPUTER SCIENCE AND ENGINEERING\n"
     ]
    }
   ],
   "source": [
    "plaintext = \"DEPARTMENT OF COMPUTER SCIENCE AND ENGINEERING\"\n",
    "ciphertext = encrypt(plaintext)\n",
    "decrypted_text = decrypt(ciphertext)\n",
    "print(f\"Plain text: {plaintext}\")\n",
    "print(f\"Cipher text: {ciphertext}\")\n",
    "print(f\"Decrypted text: {decrypted_text}\")"
   ]
  }
 ],
 "metadata": {
  "kernelspec": {
   "display_name": "Python 3",
   "language": "python",
   "name": "python3"
  },
  "language_info": {
   "codemirror_mode": {
    "name": "ipython",
    "version": 3
   },
   "file_extension": ".py",
   "mimetype": "text/x-python",
   "name": "python",
   "nbconvert_exporter": "python",
   "pygments_lexer": "ipython3",
   "version": "3.12.2"
  }
 },
 "nbformat": 4,
 "nbformat_minor": 5
}
