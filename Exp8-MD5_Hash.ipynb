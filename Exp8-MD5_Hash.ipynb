{
 "cells": [
  {
   "cell_type": "markdown",
   "id": "81b58339",
   "metadata": {},
   "source": [
    "### MD5 Hash Generator"
   ]
  },
  {
   "cell_type": "code",
   "execution_count": 1,
   "id": "05d1e4dc",
   "metadata": {},
   "outputs": [
    {
     "name": "stdout",
     "output_type": "stream",
     "text": [
      "Plaintext: CsrRu\n",
      "MD5 Hash : 0172ed8bac99f754c193a482229a35de\n"
     ]
    }
   ],
   "source": [
    "import hashlib\n",
    "\n",
    "def generate_md5_hash(input_string):\n",
    "    md5_hash = hashlib.md5()\n",
    "    md5_hash.update(input_string.encode())\n",
    "    return md5_hash.hexdigest()\n",
    "\n",
    "if __name__ == \"__main__\":\n",
    "    text = \"CsrRu\"\n",
    "    hashed_value = generate_md5_hash(text)\n",
    "    print(f\"Plaintext: {text}\")\n",
    "    print(\"MD5 Hash :\", hashed_value)\n"
   ]
  }
 ],
 "metadata": {
  "kernelspec": {
   "display_name": "Python 3",
   "language": "python",
   "name": "python3"
  },
  "language_info": {
   "codemirror_mode": {
    "name": "ipython",
    "version": 3
   },
   "file_extension": ".py",
   "mimetype": "text/x-python",
   "name": "python",
   "nbconvert_exporter": "python",
   "pygments_lexer": "ipython3",
   "version": "3.12.2"
  }
 },
 "nbformat": 4,
 "nbformat_minor": 5
}
