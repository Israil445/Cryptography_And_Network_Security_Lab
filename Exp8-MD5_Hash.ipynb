{
 "cells": [
  {
   "cell_type": "markdown",
   "id": "81b58339",
   "metadata": {},
   "source": [
    "### MD5 Hash Generator"
   ]
  },
  {
   "cell_type": "code",
   "execution_count": 1,
   "id": "05d1e4dc",
   "metadata": {},
   "outputs": [
    {
     "name": "stdout",
     "output_type": "stream",
     "text": [
      "Plaintext: CsrRu\n",
      "MD5 Hash : 0172ed8bac99f754c193a482229a35de\n"
     ]
    }
   ],
   "source": [
    "import hashlib\n",
    "\n",
    "def generate_md5_hash(input_string):\n",
    "    md5_hash = hashlib.md5()\n",
    "    md5_hash.update(input_string.encode())\n",
    "    return md5_hash.hexdigest()\n",
    "\n",
    "if __name__ == \"__main__\":\n",
    "    text = \"CsrRu\"\n",
    "    hashed_value = generate_md5_hash(text)\n",
    "    print(f\"Plaintext: {text}\")\n",
    "    print(\"MD5 Hash :\", hashed_value)\n"
   ]
  },
  {
   "cell_type": "markdown",
   "id": "22c7ebd9",
   "metadata": {},
   "source": [
    "### Multi-Algorithm Hash Generator"
   ]
  },
  {
   "cell_type": "code",
   "execution_count": 3,
   "id": "9738ff49",
   "metadata": {},
   "outputs": [
    {
     "name": "stdout",
     "output_type": "stream",
     "text": [
      "Plaintext: CseRu\n",
      "Algorithm: sha256\n",
      "Hashed Output using SHA256: 1de3ae47a54285dde9d33ba4e817a1858c795515b3f783d875633a738d23b01f\n"
     ]
    }
   ],
   "source": [
    "import hashlib\n",
    "\n",
    "def hash_message(message, algorithm='sha256'):\n",
    "\n",
    "    message_bytes = message.encode('utf-8')\n",
    "\n",
    "    if algorithm == 'sha1':\n",
    "        hash_obj = hashlib.sha1(message_bytes)\n",
    "    elif algorithm == 'sha224':\n",
    "        hash_obj = hashlib.sha224(message_bytes)\n",
    "    elif algorithm == 'sha256':\n",
    "        hash_obj = hashlib.sha256(message_bytes)\n",
    "    elif algorithm == 'sha384':\n",
    "        hash_obj = hashlib.sha384(message_bytes)\n",
    "    elif algorithm == 'sha512':\n",
    "        hash_obj = hashlib.sha512(message_bytes)\n",
    "    else:\n",
    "        print(\"Invalid algorithm\")\n",
    "\n",
    "    return hash_obj.hexdigest()\n",
    "\n",
    "message = \"CseRu\"\n",
    "algorithm = \"sha256\"\n",
    "\n",
    "hashed_output = hash_message(message, algorithm)\n",
    "print(f\"Plaintext: {message}\")\n",
    "print(f\"Algorithm: {algorithm}\")\n",
    "print(f\"Hashed Output using {algorithm.upper()}: {hashed_output}\")\n"
   ]
  }
 ],
 "metadata": {
  "kernelspec": {
   "display_name": "Python 3",
   "language": "python",
   "name": "python3"
  },
  "language_info": {
   "codemirror_mode": {
    "name": "ipython",
    "version": 3
   },
   "file_extension": ".py",
   "mimetype": "text/x-python",
   "name": "python",
   "nbconvert_exporter": "python",
   "pygments_lexer": "ipython3",
   "version": "3.12.2"
  }
 },
 "nbformat": 4,
 "nbformat_minor": 5
}
