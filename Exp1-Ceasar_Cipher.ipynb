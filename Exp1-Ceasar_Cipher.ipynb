{
 "cells": [
  {
   "cell_type": "markdown",
   "id": "4e0add48",
   "metadata": {},
   "source": [
    "### Encryption"
   ]
  },
  {
   "cell_type": "code",
   "execution_count": 5,
   "id": "6c432640",
   "metadata": {},
   "outputs": [],
   "source": [
    "def encrypt(plain_text):\n",
    "    cipher_text = \"\"\n",
    "    for ch in plain_text:\n",
    "        if ch.isalpha():\n",
    "            ch = chr(ord(ch) + 3)\n",
    "            if ch.isalpha() != True:\n",
    "                ch = chr(ord(ch) - 26)\n",
    "        cipher_text += ch\n",
    "    return cipher_text                "
   ]
  },
  {
   "cell_type": "markdown",
   "id": "9f46ae9b",
   "metadata": {},
   "source": [
    "### Decryption"
   ]
  },
  {
   "cell_type": "code",
   "execution_count": 6,
   "id": "86ed09e1",
   "metadata": {},
   "outputs": [],
   "source": [
    "def decrypt(cipher_text):\n",
    "    plain_text = \"\"\n",
    "    for  ch in cipher_text:\n",
    "        if ch.isalpha():\n",
    "            ch = chr(ord(ch) - 3)\n",
    "            if ch.isalpha() != True:\n",
    "                ch = chr(ord(ch) + 26)\n",
    "        plain_text += ch        \n",
    "    return plain_text    "
   ]
  },
  {
   "cell_type": "markdown",
   "id": "4ef122b0",
   "metadata": {},
   "source": [
    "### Example"
   ]
  },
  {
   "cell_type": "code",
   "execution_count": null,
   "id": "38eabf3b",
   "metadata": {},
   "outputs": [
    {
     "name": "stdout",
     "output_type": "stream",
     "text": [
      "Plaintext: Israil x 445@\n",
      "Ciphertext: Lvudlo a 445@\n",
      "Decrypted Plaintext: Israil x 445@\n"
     ]
    }
   ],
   "source": [
    "plain_text = \"Israil x 445@\"\n",
    "print(f\"Plaintext: {plain_text}\")\n",
    "cipher_text = encrypt(plain_text)\n",
    "print(f\"Ciphertext: {cipher_text}\")\n",
    "decrypted_text = decrypt(cipher_text)\n",
    "print(f\"Decrypted Plaintext: {decrypted_text}\")"
   ]
  }
 ],
 "metadata": {
  "kernelspec": {
   "display_name": "Python 3",
   "language": "python",
   "name": "python3"
  },
  "language_info": {
   "codemirror_mode": {
    "name": "ipython",
    "version": 3
   },
   "file_extension": ".py",
   "mimetype": "text/x-python",
   "name": "python",
   "nbconvert_exporter": "python",
   "pygments_lexer": "ipython3",
   "version": "3.12.2"
  }
 },
 "nbformat": 4,
 "nbformat_minor": 5
}
